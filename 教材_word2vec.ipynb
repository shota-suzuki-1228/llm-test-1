{
  "nbformat": 4,
  "nbformat_minor": 0,
  "metadata": {
    "colab": {
      "provenance": [],
      "toc_visible": true
    },
    "kernelspec": {
      "name": "python3",
      "display_name": "Python 3"
    },
    "language_info": {
      "name": "python"
    }
  },
  "cells": [
    {
      "cell_type": "code",
      "source": [
        "#@title ライブラリーの利用\n",
        "!git clone https://github.com/Michi-123/whiteGPT"
      ],
      "metadata": {
        "id": "TJ5435LcL_ze",
        "outputId": "c66e6552-1e82-457e-80d2-a4fbf97ee26d",
        "colab": {
          "base_uri": "https://localhost:8080/"
        }
      },
      "execution_count": null,
      "outputs": [
        {
          "output_type": "stream",
          "name": "stdout",
          "text": [
            "Cloning into 'whiteGPT'...\n",
            "remote: Enumerating objects: 1299, done.\u001b[K\n",
            "remote: Counting objects: 100% (135/135), done.\u001b[K\n",
            "remote: Compressing objects: 100% (95/95), done.\u001b[K\n",
            "remote: Total 1299 (delta 84), reused 88 (delta 40), pack-reused 1164 (from 1)\u001b[K\n",
            "Receiving objects: 100% (1299/1299), 136.87 MiB | 26.87 MiB/s, done.\n",
            "Resolving deltas: 100% (743/743), done.\n"
          ]
        }
      ]
    },
    {
      "cell_type": "markdown",
      "source": [
        "https://en.wikipedia.org/wiki/Word2vec"
      ],
      "metadata": {
        "id": "GR13TdFnH7LJ"
      }
    },
    {
      "cell_type": "code",
      "source": [
        "#@title ライブラリーの読み込み\n",
        "import sys\n",
        "sys.path.append(\"/content/whiteGPT\")\n",
        "\n",
        "import random\n",
        "import torch\n",
        "import torch.nn as nn\n",
        "import torch.optim as optim\n",
        "from whiteGPT import word2vec\n",
        "from whiteGPT import CBOW\n",
        "from whiteGPT import Vocab"
      ],
      "metadata": {
        "id": "9I1HAQyk2IaY",
        "colab": {
          "base_uri": "https://localhost:8080/",
          "height": 17
        },
        "outputId": "9edd45c8-c44f-42ea-e8a1-c92ed7f7873b"
      },
      "execution_count": 5,
      "outputs": [
        {
          "output_type": "display_data",
          "data": {
            "text/plain": [
              "<IPython.core.display.HTML object>"
            ],
            "text/html": [
              "\n",
              "  <style>\n",
              "    pre {\n",
              "        white-space: pre-wrap;\n",
              "    }\n",
              "  </style>\n",
              "  "
            ]
          },
          "metadata": {}
        }
      ]
    },
    {
      "cell_type": "code",
      "source": [
        "# @title 学習用のテキストデータ\n",
        "corpus_list = [\n",
        "    \"this animal is cat.\",\n",
        "    \"the quick brown fox jumps over the lazy dog.\",\n",
        "    \"dog and cat are animal.\",\n",
        "    \"I love dogs and cats.\",\n",
        "    \"the dog sat on the rug.\",\n",
        "    \"cats are independent animals. \",\n",
        "    \"foxes are wild animals.\",\n",
        "    \"The cat prowled through the moonlit garden.\",\n",
        "    \"Dogs eagerly awaited their owner's return at the doorstep.\",\n",
        "    \"A cat's purr filled the room with comfort.\",\n",
        "    \"The dog wagged its tail in excitement.\",\n",
        "    \"Cats gracefully leaped from rooftop to rooftop.\",\n",
        "\n",
        "    \"Walking down the street, I spotted a stray dog searching for scraps.\",\n",
        "    \"The cat stretched lazily in the warmth of the sunbeam.\",\n",
        "    \"Dogs barked joyfully in the park.\",\n",
        "    \"A sleek black cat slinked along the fence.\",\n",
        "    \"The old dog snoozed contentedly by the fireplace.\",\n",
        "    \"Cats darted through the alleyways, chasing shadows.\",\n",
        "    \"A fluffy white cat napped peacefully on the windowsill.\",\n",
        "\n",
        "    \"Dogs are furry friends who love to play fetch and cuddle with you.\",\n",
        "    \"Cats are soft and independent pets that enjoy lounging in sunny spots.\",\n",
        "    \"Dogs wag their tails when they're happy and bark to say hello.\",\n",
        "    \"Cats purr when they're content and love to curl up in your lap.\",\n",
        "\n",
        "    \"Fido loves going for car rides, he always sticks his head out the window with a goofy grin.\",\n",
        "    \"the old dog hobbled over to greet us, his tail thumping gently against the floor.\",\n",
        "    \"the cat perched regally on the windowsill, surveying its outdoor kingdom. \",\n",
        "    \"the cat stalked a dust bunny across the floor, pouncing with laser focus. \",\n",
        "    \"the neighbor's cat, notorious for its thievery, snuck into our yard and made off with a shiny red ball of yarn. \",\n",
        "    \"curled up with a good book, I felt a soft nudge – my cat, wanting some attention, was rubbing against my leg. \",\n",
        "    \"the therapy dog, with its gentle demeanor, brought a wave of calm to the anxious patients in the waiting room.\",\n",
        "    \"despite their different personalities, the dog and cat often napped curled up together. \",\n",
        "    \"we need to buy more cat food, Whiskers seems to be inhaling everything in the bow. \",\n",
        "    \"despite being a scaredy cat, Luna the ginger bravely explored every corner of the new house. \",\n",
        "    \"Max the dog spent all afternoon digging a hole in the backyard, much to the gardener's dismay. \",\n",
        "    \"the smell of freshly baked cookies lured the cat out from its hiding spot. \",\n",
        "    \"during thunderstorms, Milo the dog would huddle under the bed, trembling uncontrollably. \",\n",
        "    \"we adopted a pair of playful kittens, and now our living room is a whirlwind of fur and feathery toys. \",\n",
        "    \"every morning, the rooster crows and the dog barks, creating a chaotic symphony to wake up the household. \"\n",
        "]"
      ],
      "metadata": {
        "id": "cF62eOmUfzg_",
        "colab": {
          "base_uri": "https://localhost:8080/",
          "height": 17
        },
        "outputId": "5b2f3e2d-6f5c-4bc1-8c74-930570c225f7"
      },
      "execution_count": 3,
      "outputs": [
        {
          "output_type": "display_data",
          "data": {
            "text/plain": [
              "<IPython.core.display.HTML object>"
            ],
            "text/html": [
              "\n",
              "  <style>\n",
              "    pre {\n",
              "        white-space: pre-wrap;\n",
              "    }\n",
              "  </style>\n",
              "  "
            ]
          },
          "metadata": {}
        }
      ]
    },
    {
      "cell_type": "code",
      "source": [
        "# @title テスト用のテキストデータ\n",
        "test_corpus_list = [\n",
        "    \"this animal is dog \",\n",
        "    \"the old cat hobbled \",\n",
        "    \"the dog perched regally \",\n",
        "    \"quick brown cat jumps \",\n",
        "    \"cat and dog often \",\n",
        "    \"the dog out from \",\n",
        "    \"Fido the cat would \",\n",
        "    \"Luna the cat spent \",\n",
        "    \"neighbor's dog \",\n",
        "    \"cat stalked a dust \",\n",
        "    \"buy more cat food\",\n",
        "    \"cat and the dog barks\",\n",
        "]"
      ],
      "metadata": {
        "id": "wqu33m_WFtxb",
        "colab": {
          "base_uri": "https://localhost:8080/",
          "height": 17
        },
        "outputId": "831277a7-55a0-4f9b-a9fa-fdc24d18c9e6"
      },
      "execution_count": 6,
      "outputs": [
        {
          "output_type": "display_data",
          "data": {
            "text/plain": [
              "<IPython.core.display.HTML object>"
            ],
            "text/html": [
              "\n",
              "  <style>\n",
              "    pre {\n",
              "        white-space: pre-wrap;\n",
              "    }\n",
              "  </style>\n",
              "  "
            ]
          },
          "metadata": {}
        }
      ]
    },
    {
      "cell_type": "markdown",
      "source": [
        "# CBOWモデルの学習"
      ],
      "metadata": {
        "id": "2t8wyIIW2vhN"
      }
    },
    {
      "cell_type": "code",
      "source": [
        "# @title ハイパー・パラメータの設定\n",
        "# @markdown 埋め込みの次元の数\n",
        "embedding_dim = 16 #@param{type:'integer'}\n",
        "# @markdown エポック数\n",
        "num_epoch = 300 #@param{type:'integer'}\n",
        "# @markdown 学習係数（学習率）\n",
        "learning_rate = 0.001 #@param{type:'number'}\n",
        "# @markdown 入力枠\n",
        "window_size = 3 #@param{type:'integer'}\n",
        "# word2vec.window_size = window_size"
      ],
      "metadata": {
        "cellView": "form",
        "id": "9xGDByxwa4cW",
        "colab": {
          "base_uri": "https://localhost:8080/",
          "height": 17
        },
        "outputId": "398b454f-46c5-4072-c92b-bcff3a4d59f9"
      },
      "execution_count": 7,
      "outputs": [
        {
          "output_type": "display_data",
          "data": {
            "text/plain": [
              "<IPython.core.display.HTML object>"
            ],
            "text/html": [
              "\n",
              "  <style>\n",
              "    pre {\n",
              "        white-space: pre-wrap;\n",
              "    }\n",
              "  </style>\n",
              "  "
            ]
          },
          "metadata": {}
        }
      ]
    },
    {
      "cell_type": "code",
      "source": [
        "# @title インスタンス化\n",
        "# 学習しやすいデータに加工します\n",
        "pad = '<PAD>' * window_size\n",
        "train_corpus = pad.join(corpus_list)\n",
        "train_corpus = word2vec.modify(corpus_list, window_size) # 追加コード\n",
        "\n",
        "# (バグ修正用の追加コード)\n",
        "import re\n",
        "train_corpus = train_corpus.lower()\n",
        "train_corpus = re.findall(r'\\w+|[^\\w\\s]', train_corpus)\n",
        "train_corpus = ' '.join(train_corpus)\n",
        "\n",
        "# Dataset\n",
        "vocab = Vocab(train_corpus)\n",
        "train_dataset = word2vec.TextDataset(vocab, train_corpus, window_size)\n",
        "train_dataloader = word2vec.DataLoader(train_dataset, batch_size=4, shuffle=True)\n",
        "test_dataset = word2vec.TextDataset(vocab, \"\", window_size)\n",
        "# 検証しやすいデータを設定します\n",
        "test_dataset.test_corpus(test_corpus_list)\n",
        "# 損失関数の計算\n",
        "criterion = nn.CrossEntropyLoss()\n",
        "# モデルのインスタンス化\n",
        "model = word2vec.CBOW(vocab.vocab_size, embedding_dim)\n",
        "# 最適化モジュール\n",
        "optimizer = optim.Adam(model.parameters(),lr=learning_rate)"
      ],
      "metadata": {
        "id": "b5Qdw9jWJK7y",
        "colab": {
          "base_uri": "https://localhost:8080/",
          "height": 17
        },
        "outputId": "ebbd7cb5-97cf-4c33-f7dd-348aa359e139"
      },
      "execution_count": 18,
      "outputs": [
        {
          "output_type": "display_data",
          "data": {
            "text/plain": [
              "<IPython.core.display.HTML object>"
            ],
            "text/html": [
              "\n",
              "  <style>\n",
              "    pre {\n",
              "        white-space: pre-wrap;\n",
              "    }\n",
              "  </style>\n",
              "  "
            ]
          },
          "metadata": {}
        }
      ]
    },
    {
      "cell_type": "code",
      "source": [
        "# debug\n",
        "train_iter = iter(train_dataloader)\n",
        "next(train_iter)"
      ],
      "metadata": {
        "id": "rCE9-83LwNAh",
        "colab": {
          "base_uri": "https://localhost:8080/",
          "height": 110
        },
        "outputId": "e63a92d8-63bc-453a-b433-3ace459b2501"
      },
      "execution_count": 17,
      "outputs": [
        {
          "output_type": "display_data",
          "data": {
            "text/plain": [
              "<IPython.core.display.HTML object>"
            ],
            "text/html": [
              "\n",
              "  <style>\n",
              "    pre {\n",
              "        white-space: pre-wrap;\n",
              "    }\n",
              "  </style>\n",
              "  "
            ]
          },
          "metadata": {}
        },
        {
          "output_type": "execute_result",
          "data": {
            "text/plain": [
              "{'source': tensor([[150, 234, 225],\n",
              "         [122, 225,  39],\n",
              "         [ 69,  24,  98],\n",
              "         [  0,   0,   0]]),\n",
              " 'target': tensor([100,   8,  95,   0])}"
            ]
          },
          "metadata": {},
          "execution_count": 17
        }
      ]
    },
    {
      "cell_type": "code",
      "source": [
        "# @title 学習の実行\n",
        "for epoch in range(num_epoch):\n",
        "    total_loss = 0\n",
        "    running_loss = 0\n",
        "    for batch in train_dataloader:\n",
        "\n",
        "        # 入力データと教師データの取得\n",
        "        context_indices, target_index = batch[\"source\"],batch[\"target\"]\n",
        "        # 推論\n",
        "        output = model(context_indices)\n",
        "        # 損失計算\n",
        "        loss = criterion(output,target_index)\n",
        "        # 勾配の初期化\n",
        "        optimizer.zero_grad()\n",
        "        # 勾配の計算\n",
        "        loss.backward()\n",
        "        # 学習パラメータ（重み）の更新\n",
        "        optimizer.step()\n",
        "        # 損失の累計\n",
        "        running_loss += loss.item()\n",
        "\n",
        "    # 損失の平均\n",
        "    total_loss = running_loss / len(train_dataloader)\n",
        "\n",
        "    # n回に一度の処理\n",
        "    if epoch % 10 == 0:\n",
        "        # ログの出力\n",
        "        print(f\"Epoch{epoch},Loss{total_loss}\")\n",
        "        # テスト\n",
        "        test_dataset.test(model)"
      ],
      "metadata": {
        "id": "T65y90Omr3_2",
        "colab": {
          "base_uri": "https://localhost:8080/",
          "height": 1000
        },
        "outputId": "eb062412-0f83-46f7-fd42-aa006257d547"
      },
      "execution_count": 21,
      "outputs": [
        {
          "output_type": "display_data",
          "data": {
            "text/plain": [
              "<IPython.core.display.HTML object>"
            ],
            "text/html": [
              "\n",
              "  <style>\n",
              "    pre {\n",
              "        white-space: pre-wrap;\n",
              "    }\n",
              "  </style>\n",
              "  "
            ]
          },
          "metadata": {}
        },
        {
          "output_type": "stream",
          "name": "stdout",
          "text": [
            "Epoch0,Loss5.230410956419432\n",
            "buy more cat : food : street\n",
            "Epoch10,Loss2.7451234785123515\n",
            "cat and dog : often : ,\n",
            "Epoch20,Loss2.18870492800712\n",
            "cat and dog : often : and\n",
            "Epoch30,Loss1.7402200617540915\n",
            "the dog out : from : ,\n",
            "Epoch40,Loss1.383275784050616\n",
            "the dog perched : regally : ,\n",
            "Epoch50,Loss1.11189345890083\n",
            "and the dog : barks : with\n",
            "Epoch60,Loss0.9057013564877427\n",
            "buy more cat : food : food\n",
            "Epoch70,Loss0.7526102969422936\n",
            "cat and dog : often : often\n",
            "Epoch80,Loss0.6355293617368891\n",
            "luna the cat : spent : regally\n",
            "Epoch90,Loss0.5494046083275372\n",
            "cat stalked a : dust : dust\n",
            "Epoch100,Loss0.4859420824527311\n",
            "cat stalked a : dust : dust\n",
            "Epoch110,Loss0.4383626444480167\n",
            "fido the cat : would : room\n",
            "Epoch120,Loss0.40371875365291576\n",
            "cat and dog : often : often\n",
            "Epoch130,Loss0.3792909561184038\n",
            "cat stalked a : dust : dust\n",
            "Epoch140,Loss0.3597011820708688\n",
            "this animal is : dog : cat\n",
            "Epoch150,Loss0.34716247368823344\n",
            "and the dog : barks : cat\n",
            "Epoch160,Loss0.33724120641104843\n",
            "cat and dog : often : often\n",
            "Epoch170,Loss0.33000306438994953\n",
            "cat stalked a : dust : dust\n",
            "Epoch180,Loss0.32332308220121864\n",
            "cat stalked a : dust : dust\n",
            "Epoch190,Loss0.3203622743077666\n",
            "fido the cat : would : room\n",
            "Epoch200,Loss0.3173077323195824\n",
            "fido the cat : would : room\n",
            "Epoch210,Loss0.315872074427996\n",
            "cat and dog : often : often\n",
            "Epoch220,Loss0.31437829847174303\n",
            "luna the cat : spent : from\n",
            "Epoch230,Loss0.3126950349875327\n",
            "the dog perched : regally : on\n",
            "Epoch240,Loss0.3116543076891958\n",
            "neighbor ' s : dog : cat\n",
            "Epoch250,Loss0.31074466993670913\n",
            "cat stalked a : dust : dust\n",
            "Epoch260,Loss0.31141924114632064\n",
            "fido the cat : would : room\n",
            "Epoch270,Loss0.3097566947199084\n",
            "cat and dog : often : often\n",
            "Epoch280,Loss0.3100451616499926\n",
            "cat stalked a : dust : dust\n",
            "Epoch290,Loss0.3093894638153992\n",
            "the dog out : from : its\n"
          ]
        }
      ]
    },
    {
      "cell_type": "markdown",
      "source": [
        "# 評価"
      ],
      "metadata": {
        "id": "vBQv8KR8jBsd"
      }
    },
    {
      "cell_type": "code",
      "source": [
        "# 次の単語を予測\n",
        "test_dataset.test(model)"
      ],
      "metadata": {
        "id": "M_0m6ngcnJv3",
        "colab": {
          "base_uri": "https://localhost:8080/",
          "height": 36
        },
        "outputId": "31f29ac8-23e7-4944-c785-cec646b2ca84"
      },
      "execution_count": 29,
      "outputs": [
        {
          "output_type": "display_data",
          "data": {
            "text/plain": [
              "<IPython.core.display.HTML object>"
            ],
            "text/html": [
              "\n",
              "  <style>\n",
              "    pre {\n",
              "        white-space: pre-wrap;\n",
              "    }\n",
              "  </style>\n",
              "  "
            ]
          },
          "metadata": {}
        },
        {
          "output_type": "stream",
          "name": "stdout",
          "text": [
            "the old cat : hobbled : napped\n"
          ]
        }
      ]
    },
    {
      "cell_type": "code",
      "source": [
        "# 重みの表示\n",
        "model.embeddings.weight"
      ],
      "metadata": {
        "id": "dXxPRQCdqcKL",
        "colab": {
          "base_uri": "https://localhost:8080/",
          "height": 185
        },
        "outputId": "af9d4898-ba98-47cc-83f1-c3360c166592"
      },
      "execution_count": 30,
      "outputs": [
        {
          "output_type": "display_data",
          "data": {
            "text/plain": [
              "<IPython.core.display.HTML object>"
            ],
            "text/html": [
              "\n",
              "  <style>\n",
              "    pre {\n",
              "        white-space: pre-wrap;\n",
              "    }\n",
              "  </style>\n",
              "  "
            ]
          },
          "metadata": {}
        },
        {
          "output_type": "execute_result",
          "data": {
            "text/plain": [
              "Parameter containing:\n",
              "tensor([[ 1.4509,  0.0065,  0.3409,  ..., -1.9526,  0.6899, -0.4549],\n",
              "        [ 0.1846,  1.3079,  0.7179,  ..., -0.1679,  1.1737,  2.0233],\n",
              "        [-0.3015,  0.0137, -0.1076,  ...,  0.2195, -2.6794,  0.1836],\n",
              "        ...,\n",
              "        [-2.7816, -2.5364,  1.8666,  ..., -4.7798,  4.5953, -3.3245],\n",
              "        [-3.3377, -4.7171,  5.0621,  ..., -3.8381,  1.2953, -3.8615],\n",
              "        [ 2.8610, -1.8987,  4.7440,  ..., -2.8966, -1.4770, -5.6472]],\n",
              "       requires_grad=True)"
            ]
          },
          "metadata": {},
          "execution_count": 30
        }
      ]
    },
    {
      "cell_type": "code",
      "source": [],
      "metadata": {
        "id": "jEP-YI6LFb3t"
      },
      "execution_count": null,
      "outputs": []
    }
  ]
}